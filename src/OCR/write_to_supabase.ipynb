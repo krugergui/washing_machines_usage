{
 "cells": [
  {
   "cell_type": "code",
   "execution_count": 1,
   "metadata": {},
   "outputs": [],
   "source": [
    "from supabase import create_client\n",
    "from dotenv import load_dotenv\n",
    "import os\n",
    "\n",
    "load_dotenv(dotenv_path=\".env\")\n",
    "\n",
    "url = os.getenv(\"SUPABASE_URL\")\n",
    "key = os.getenv(\"SUPABASE_KEY\")\n",
    "\n",
    "user = os.getenv(\"SUPABASE_USER\")\n",
    "password = os.getenv(\"SUPABASE_USER_PASSWORD\")\n",
    "\n",
    "supabase = create_client(url, key)\n",
    "supabase_auth = supabase.auth.sign_in_with_password({\"email\": user, \"password\": password})"
   ]
  },
  {
   "cell_type": "code",
   "execution_count": 5,
   "metadata": {},
   "outputs": [
    {
     "data": {
      "text/plain": [
       "APIResponse[TypeVar](data=[{'id': 8, 'created_at': '2024-07-11T23:14:24.300176+00:00', 'type': 'Trockner', 'appliance_external_id': 47629, 'running_for': '01:22:13', 'file_name': 'Screenshot_20240628-090045.png', 'date_collected': '2024-06-28T09:00:45+00:00'}], count=None)"
      ]
     },
     "execution_count": 5,
     "metadata": {},
     "output_type": "execute_result"
    }
   ],
   "source": [
    "obj = {\n",
    "    \"type\": \"Trockner\",\n",
    "    \"running_for\": \"01:22:13\",\n",
    "    \"appliance_external_id\": \"47629\",\n",
    "    \"file_name\": \"Screenshot_20240628-090045.png\",\n",
    "    \"date_collected\": \"2024-06-28 09:00:45\",\n",
    "}\n",
    "\n",
    "response = supabase.table(\"appliances_use\").insert(obj).execute()\n",
    "\n",
    "response"
   ]
  }
 ],
 "metadata": {
  "kernelspec": {
   "display_name": "Python 3 (ipykernel)",
   "language": "python",
   "name": "python3"
  }
 },
 "nbformat": 4,
 "nbformat_minor": 2
}
